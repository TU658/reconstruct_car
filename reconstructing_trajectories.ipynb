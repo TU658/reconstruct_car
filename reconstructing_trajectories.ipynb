{
 "cells": [
  {
   "cell_type": "code",
   "execution_count": 5,
   "metadata": {},
   "outputs": [
    {
     "data": {
      "image/png": "[encoded data removed]",
      "text/plain": [
       "<Figure size 432x288 with 1 Axes>"
      ]
     },
     "metadata": {
      "needs_background": "light"
     },
     "output_type": "display_data"
    }
   ],
   "source": [
    "from matplotlib import pyplot as plt\n",
    "from math import pi, sin, cos\n",
    "import numpy as np\n",
    "from helpers import process_data\n",
    "\n",
    "data_list = process_data(\"trajectory_example.pickle\")\n",
    "\n",
    "def get_speeds(data_list):\n",
    "    last_time = 0.0\n",
    "    last_disp = 0.0\n",
    "    speeds    = [0.0]\n",
    "    for entry in data_list[1:]:\n",
    "        # unpack the entry\n",
    "        ts, disp, yaw, acc = entry\n",
    "        \n",
    "        # calculate avg speed for this time interval\n",
    "        dx = disp - last_disp\n",
    "        dt = ts - last_time\n",
    "        if dt < 0.0001:\n",
    "            print(\"error! dt is too small\")\n",
    "            speeds.append(0.0)\n",
    "            continue\n",
    "        v  = dx / dt\n",
    "        \n",
    "        # add to history of speeds\n",
    "        speeds.append(v)\n",
    "        \n",
    "        # update last_time and last_disp to new vals\n",
    "        last_time = ts\n",
    "        last_disp = disp\n",
    "    return speeds\n",
    "\n",
    "def get_headings(data_list):\n",
    "    last_time  = 0.0\n",
    "    theta      = 0.0\n",
    "    thetas     = [0.0]\n",
    "    for entry in data_list[1:]:\n",
    "        ts, disp, yaw, acc = entry\n",
    "        dt = ts - last_time\n",
    "        d_theta = dt * yaw \n",
    "        theta += d_theta\n",
    "        theta %= (2 * pi)\n",
    "        thetas.append(theta)\n",
    "        last_time = ts\n",
    "    return thetas\n",
    "    \n",
    "def get_x_y(data_list):\n",
    "    speeds = get_speeds(data_list)\n",
    "    thetas = get_headings(data_list)\n",
    "    x = 0.0\n",
    "    y = 0.0\n",
    "    last_time = 0.0\n",
    "    XY = [(x, y)]    \n",
    "    for i in range(1,len(data_list)):\n",
    "        speed = speeds[i]\n",
    "        theta = thetas[i]\n",
    "        entry = data_list[i]\n",
    "        ts, disp, yaw, acc = entry\n",
    "        dt = ts - last_time\n",
    "        D  = speed * dt\n",
    "        dx = D * cos(theta)\n",
    "        dy = D * sin(theta)\n",
    "        x += dx\n",
    "        y += dy\n",
    "        XY.append((x,y))\n",
    "        last_time = ts\n",
    "    return XY\n",
    "\n",
    "def show_x_y(data_list, increment=1):\n",
    "    XY = get_x_y(data_list)\n",
    "    headings = get_headings(data_list)\n",
    "    X  = [d[0] for d in XY]\n",
    "    Y  = [d[1] for d in XY]\n",
    "    h_x = np.cos(headings)\n",
    "    h_y = np.sin(headings)\n",
    "    Q = plt.quiver(X[::increment],\n",
    "                   Y[::increment],\n",
    "                   h_x[::increment],\n",
    "                   h_y[::increment],\n",
    "                   units='x',\n",
    "                   pivot='tip')\n",
    "    qk = plt.quiverkey(Q, 0.9, 0.9, 2, r'$1 \\frac{m}{s}',\n",
    "                       labelpos='E', coordinates='figure')\n",
    "    plt.show()\n",
    "show_x_y(data_list, increment=1)"
   ]
  }
 ],
 "metadata": {
  "kernelspec": {
   "display_name": "Python 3",
   "language": "python",
   "name": "python3"
  },
  "language_info": {
   "codemirror_mode": {
    "name": "ipython",
    "version": 3
   },
   "file_extension": ".py",
   "mimetype": "text/x-python",
   "name": "python",
   "nbconvert_exporter": "python",
   "pygments_lexer": "ipython3",
   "version": "3.9.0"
  }
 },
 "nbformat": 4,
 "nbformat_minor": 2
}
